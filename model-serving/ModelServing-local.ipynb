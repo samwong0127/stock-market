{
 "cells": [
  {
   "attachments": {},
   "cell_type": "markdown",
   "metadata": {},
   "source": [
    "## Model Serving \n",
    "\n",
    "The demonstrations below are accessible by a local API\n",
    "\n",
    "First, start the API server\n",
    "1. Save the following cell as a .PY file\n",
    "2. Install dependencies in requirements.txt\n",
    "3. Run the file with `python api.py`"
   ]
  },
  {
   "cell_type": "code",
   "execution_count": null,
   "metadata": {},
   "outputs": [],
   "source": [
    "# References:\n",
    "# https://brightersidetech.com/running-flask-apps-in-google-colab/\n",
    "# https://www.geeksforgeeks.org/get-value-of-a-particular-cell-in-pyspark-dataframe/\n",
    "\n",
    "from flask import Flask, request, jsonify\n",
    "import joblib\n",
    "import pandas as pd\n",
    "\n",
    "app = Flask(__name__)\n",
    "\n",
    "# Load trained Spark ML model\n",
    "\"\"\"\n",
    "#from pyspark.sql import SparkSession\n",
    "# Create a SparkSession\n",
    "#spark = SparkSession.builder.appName('api').getOrCreate()\n",
    "\n",
    "#from pyspark.ml.feature import VectorAssembler\n",
    "#required_features = ['vol_moving_avg', 'adj_close_rolling_med']\n",
    "#assembler = VectorAssembler(inputCols=required_features, outputCol='features')\n",
    "\n",
    "#from google.colab.output import eval_js\n",
    "#print(\"Visit below link to access the API\")\n",
    "#print(\"---------------------------------------------\")\n",
    "#print(eval_js(\"google.colab.kernel.proxyPort(5000)\"))\n",
    "#print(\"---------------------------------------------\\n\")\n",
    "\n",
    "# Load the model\n",
    "from pyspark.ml.regression import LinearRegressionModel\n",
    "#model = LinearRegressionModel.load(r\"trained-models/20230512-114220-lr-model\")\n",
    "#model = LinearRegressionModel.load(r\"trained-models\\2023-05-12-lr-model\")\n",
    "\n",
    "try:\n",
    "    model = LinearRegressionModel.load('trained-models/20230512-114220-lr-model')\n",
    "    print('Spark ML model loaded.')\n",
    "except:\n",
    "    model = joblib.load(r'trained-models\\20230512-132900-sk-lr-model')\n",
    "    print('Scikit-learn ML model loaded.')\n",
    "    #spark.stop()\n",
    "\"\"\"\n",
    "\n",
    "# Load trained Scikit-learn model\n",
    "model = joblib.load(r'trained-models\\20230512-132900-sk-lr-model')\n",
    "#print('Scikit-learn ML model loaded.')\n",
    "\n",
    "def volume_prediction(model, data):\n",
    "\n",
    "    df = pd.DataFrame(data=data)\n",
    "    #print(df)\n",
    "    #apiData = spark.createDataFrame([data], required_features)\n",
    "\n",
    "    #apiData = assembler.transform(apiData)\n",
    "    #apiData = apiData.select(['features'])\n",
    "\n",
    "    prediction = model.predict(df)\n",
    "    #print(f'Prediction: {int(prediction.collect()[0][1])}')\n",
    "    #print(prediction[0])\n",
    "    #return int(prediction[0])\n",
    "    return {'volume': int(prediction[0])}\n",
    "\n",
    "\n",
    "\n",
    "@app.route('/')\n",
    "def home():\n",
    "    return \"Hello World\"\n",
    "\n",
    "\"\"\"\n",
    "@app.route('/test')\n",
    "def test():\n",
    "  return jsonify({'test': 'You can access test API'}), 200\n",
    "\"\"\"\n",
    "@app.route('/predict')\n",
    "def get_volume():\n",
    "    vol_moving_avg = request.args.get('vol_moving_avg')\n",
    "    adj_close_rolling_med = request.args.get('adj_close_rolling_med')\n",
    "    #print(vol_moving_avg)\n",
    "    #print(adj_close_rolling_med)\n",
    "    if not vol_moving_avg or not adj_close_rolling_med:\n",
    "        return jsonify({'error': 'You need to supply both vol_moving_avg and adj_close_rolling_med'}), 400\n",
    "\n",
    "    #print(vol_moving_avg)\n",
    "    #print(adj_close_rolling_med)\n",
    "    #data = [float(vol_moving_avg), float(adj_close_rolling_med)]\n",
    "    data = {'vol_moving_avg': [float(vol_moving_avg)], 'adj_close_rolling_med': [float(adj_close_rolling_med)]}\n",
    "    return jsonify({\n",
    "        **volume_prediction(model, data),\n",
    "    }),200\n",
    "\n",
    "if __name__ == '__main__':\n",
    "    app.run(host='localhost', port=5000, debug=True)"
   ]
  },
  {
   "attachments": {},
   "cell_type": "markdown",
   "metadata": {},
   "source": [
    "And access it as an API"
   ]
  },
  {
   "cell_type": "code",
   "execution_count": 1,
   "metadata": {},
   "outputs": [],
   "source": [
    "import requests"
   ]
  },
  {
   "cell_type": "code",
   "execution_count": 2,
   "metadata": {
    "scrolled": true
   },
   "outputs": [
    {
     "data": {
      "text/plain": [
       "b'Hello World'"
      ]
     },
     "execution_count": 2,
     "metadata": {},
     "output_type": "execute_result"
    }
   ],
   "source": [
    "response = requests.get('http://localhost:5000')\n",
    "response.content"
   ]
  },
  {
   "cell_type": "code",
   "execution_count": 3,
   "metadata": {},
   "outputs": [
    {
     "data": {
      "text/plain": [
       "{'volume': 379763}"
      ]
     },
     "execution_count": 3,
     "metadata": {},
     "output_type": "execute_result"
    }
   ],
   "source": [
    "response = requests.get('http://localhost:5000/predict', params={'vol_moving_avg': 323412, 'adj_close_rolling_med':12312})\n",
    "response.json()"
   ]
  },
  {
   "cell_type": "code",
   "execution_count": 4,
   "metadata": {
    "scrolled": true
   },
   "outputs": [
    {
     "data": {
      "text/plain": [
       "{'error': 'You need to supply both vol_moving_avg and adj_close_rolling_med'}"
      ]
     },
     "execution_count": 4,
     "metadata": {},
     "output_type": "execute_result"
    }
   ],
   "source": [
    "response = requests.get('http://localhost:5000/predict', params={'vol_moving_avg': 323412})\n",
    "response.json()"
   ]
  },
  {
   "cell_type": "code",
   "execution_count": null,
   "metadata": {},
   "outputs": [],
   "source": []
  }
 ],
 "metadata": {
  "kernelspec": {
   "display_name": "Python 3",
   "language": "python",
   "name": "python3"
  },
  "language_info": {
   "codemirror_mode": {
    "name": "ipython",
    "version": 3
   },
   "file_extension": ".py",
   "mimetype": "text/x-python",
   "name": "python",
   "nbconvert_exporter": "python",
   "pygments_lexer": "ipython3",
   "version": "3.8.3"
  }
 },
 "nbformat": 4,
 "nbformat_minor": 4
}
