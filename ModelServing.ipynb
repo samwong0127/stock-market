{
  "nbformat": 4,
  "nbformat_minor": 0,
  "metadata": {
    "colab": {
      "provenance": []
    },
    "kernelspec": {
      "name": "python3",
      "display_name": "Python 3"
    },
    "language_info": {
      "name": "python"
    }
  },
  "cells": [
    {
      "cell_type": "code",
      "source": [
        "!pip install pyspark==3.4.0"
      ],
      "metadata": {
        "colab": {
          "base_uri": "https://localhost:8080/"
        },
        "id": "EsEKoPXeDhAq",
        "outputId": "53b2118f-3ddc-4ea2-b61b-71f1636e0ede"
      },
      "execution_count": 4,
      "outputs": [
        {
          "output_type": "stream",
          "name": "stdout",
          "text": [
            "Looking in indexes: https://pypi.org/simple, https://us-python.pkg.dev/colab-wheels/public/simple/\n",
            "Collecting pyspark==3.4.0\n",
            "  Using cached pyspark-3.4.0.tar.gz (310.8 MB)\n",
            "  Preparing metadata (setup.py) ... \u001b[?25l\u001b[?25hdone\n",
            "Requirement already satisfied: py4j==0.10.9.7 in /usr/local/lib/python3.10/dist-packages (from pyspark==3.4.0) (0.10.9.7)\n",
            "Building wheels for collected packages: pyspark\n",
            "  Building wheel for pyspark (setup.py) ... \u001b[?25l\u001b[?25hdone\n",
            "  Created wheel for pyspark: filename=pyspark-3.4.0-py2.py3-none-any.whl size=311317145 sha256=b134c70ec430034fcdb3b5b48b51b6466ae4a16e6273b2b51b8f310929ee8cb9\n",
            "  Stored in directory: /root/.cache/pip/wheels/7b/1b/4b/3363a1d04368e7ff0d408e57ff57966fcdf00583774e761327\n",
            "Successfully built pyspark\n",
            "Installing collected packages: pyspark\n",
            "Successfully installed pyspark-3.4.0\n"
          ]
        }
      ]
    },
    {
      "cell_type": "markdown",
      "source": [
        "Below section runs a local API which can be accessed by visiting the link printed. After clicking the link printed, a \"Hello World\" will be shown and it can be tested by appending `/predict?vol_moving_avg=12345&adj_close_rolling_med=25` to the URL."
      ],
      "metadata": {
        "id": "AyHs1SrFEsRe"
      }
    },
    {
      "cell_type": "code",
      "execution_count": 8,
      "metadata": {
        "colab": {
          "base_uri": "https://localhost:8080/",
          "height": 349
        },
        "id": "mQe6cDVBDNx0",
        "outputId": "9ad17d11-e695-4dd1-c472-1d7552e29f69"
      },
      "outputs": [
        {
          "output_type": "stream",
          "name": "stdout",
          "text": [
            "Visit below link to access the API\n",
            "---------------------------------------------\n",
            "https://zh23qct8pes-496ff2e9c6d22116-5000-colab.googleusercontent.com/\n",
            "---------------------------------------------\n",
            "\n",
            " * Serving Flask app '__main__'\n",
            " * Debug mode: off\n"
          ]
        },
        {
          "output_type": "stream",
          "name": "stderr",
          "text": [
            "INFO:werkzeug:\u001b[31m\u001b[1mWARNING: This is a development server. Do not use it in a production deployment. Use a production WSGI server instead.\u001b[0m\n",
            " * Running on http://127.0.0.1:5000\n",
            "INFO:werkzeug:\u001b[33mPress CTRL+C to quit\u001b[0m\n",
            "INFO:werkzeug:127.0.0.1 - - [09/May/2023 06:02:06] \"GET / HTTP/1.1\" 200 -\n",
            "INFO:werkzeug:127.0.0.1 - - [09/May/2023 06:02:07] \"\u001b[33mGET /favicon.ico HTTP/1.1\u001b[0m\" 404 -\n",
            "INFO:werkzeug:127.0.0.1 - - [09/May/2023 06:03:22] \"GET / HTTP/1.1\" 200 -\n",
            "INFO:werkzeug:127.0.0.1 - - [09/May/2023 06:03:22] \"\u001b[33mGET /favicon.ico HTTP/1.1\u001b[0m\" 404 -\n",
            "INFO:werkzeug:127.0.0.1 - - [09/May/2023 06:04:46] \"GET /predict?adj_close_rolling_med=25&vol_moving_avg=12345 HTTP/1.1\" 200 -\n",
            "INFO:werkzeug:127.0.0.1 - - [09/May/2023 06:04:46] \"\u001b[33mGET /favicon.ico HTTP/1.1\u001b[0m\" 404 -\n",
            "INFO:werkzeug:127.0.0.1 - - [09/May/2023 06:05:46] \"GET / HTTP/1.1\" 200 -\n",
            "INFO:werkzeug:127.0.0.1 - - [09/May/2023 06:05:46] \"\u001b[33mGET /favicon.ico HTTP/1.1\u001b[0m\" 404 -\n"
          ]
        }
      ],
      "source": [
        "# References:\n",
        "# https://brightersidetech.com/running-flask-apps-in-google-colab/\n",
        "# https://www.geeksforgeeks.org/get-value-of-a-particular-cell-in-pyspark-dataframe/\n",
        "\n",
        "from flask import Flask, request, jsonify\n",
        "from pyspark.ml.regression import LinearRegressionModel\n",
        "#import pandas as pd\n",
        "\n",
        "from pyspark.sql import SparkSession\n",
        "# Create a SparkSession\n",
        "spark = SparkSession.builder.appName(\"api\").getOrCreate()\n",
        "\n",
        "from pyspark.ml.feature import VectorAssembler\n",
        "required_features = ['vol_moving_avg', 'adj_close_rolling_med']\n",
        "assembler = VectorAssembler(inputCols=required_features, outputCol='features')\n",
        "\n",
        "\n",
        "\n",
        "from google.colab.output import eval_js\n",
        "print(\"Visit below link to access the API\")\n",
        "print(\"---------------------------------------------\")\n",
        "print(eval_js(\"google.colab.kernel.proxyPort(5000)\"))\n",
        "print(\"---------------------------------------------\\n\")\n",
        "    \n",
        "app = Flask(__name__)\n",
        "# Load the model\n",
        "model = LinearRegressionModel.load(\"/content/drive/MyDrive/StockMarket/2023-05-07-lr-model\")\n",
        "\n",
        "def volume_prediction(model, data):\n",
        "    #df = pd.DataFrame(data=data)\n",
        "\n",
        "    apiData = spark.createDataFrame([data], \n",
        "    required_features)\n",
        "\n",
        "    apiData = assembler.transform(apiData)\n",
        "    apiData = apiData.select(['features'])\n",
        "\n",
        "    prediction = model.transform(apiData)\n",
        "    #print(f'Prediction: {int(prediction.collect()[0][1])}')\n",
        "    return {'volume': int(prediction.collect()[0][1])}\n",
        "\n",
        "\n",
        "@app.route('/')\n",
        "def home():\n",
        "    return \"Hello World\"\n",
        "\n",
        "\"\"\"\n",
        "@app.route('/test')\n",
        "def test():\n",
        "  return jsonify({'test': 'You can access test API'}), 200\n",
        "\"\"\"\n",
        "@app.route('/predict')\n",
        "def get_volume():\n",
        "    vol_moving_avg = request.args.get('vol_moving_avg')\n",
        "    adj_close_rolling_med = request.args.get('adj_close_rolling_med')\n",
        "    \n",
        "    if not vol_moving_avg or not adj_close_rolling_med:\n",
        "        return jsonify({'error': 'You need to supply both vol_moving_avg and adj_close_rolling_med'}), 400\n",
        "\n",
        "    data = [float(vol_moving_avg), float(adj_close_rolling_med)]\n",
        "    return jsonify({\n",
        "        **volume_prediction(model, data),\n",
        "    })\n",
        "\n",
        "if __name__ == '__main__':\n",
        "    app.run()"
      ]
    }
  ]
}